{
  "nbformat": 4,
  "nbformat_minor": 0,
  "metadata": {
    "colab": {
      "provenance": []
    },
    "kernelspec": {
      "name": "python3",
      "display_name": "Python 3"
    },
    "language_info": {
      "name": "python"
    }
  },
  "cells": [
    {
      "cell_type": "markdown",
      "source": [
        "03.10.2024 İGÜ MYO BİLGİSAYAR TEKNOLOJİ PROGRAMI YAPAY ZEKA DERSİ İLK KODLAMA ÇIKTISI"
      ],
      "metadata": {
        "id": "R_Q3pX7sYi_d"
      }
    },
    {
      "cell_type": "code",
      "source": [
        "print(\"MERHABA İGÜ MYO YZ dersi \") # YAPAY ZEKA DERSİ\n"
      ],
      "metadata": {
        "colab": {
          "base_uri": "https://localhost:8080/"
        },
        "id": "yMacRvdXZAtq",
        "outputId": "bcc4e02a-5fa4-40e1-9418-8172e4863ece"
      },
      "execution_count": 1,
      "outputs": [
        {
          "output_type": "stream",
          "name": "stdout",
          "text": [
            "MERHABA İGÜ MYO YZ dersi \n"
          ]
        }
      ]
    },
    {
      "cell_type": "code",
      "source": [
        "import sys # import python programlama delinde yazlıma eklemeye yaparan koddur\n",
        "print(sys.version)"
      ],
      "metadata": {
        "colab": {
          "base_uri": "https://localhost:8080/"
        },
        "id": "L-PNUi_6jlZO",
        "outputId": "05021f56-f0ff-462e-fb7d-be8b949d1135"
      },
      "execution_count": 2,
      "outputs": [
        {
          "output_type": "stream",
          "name": "stdout",
          "text": [
            "3.10.12 (main, Sep 11 2024, 15:47:36) [GCC 11.4.0]\n"
          ]
        }
      ]
    },
    {
      "cell_type": "code",
      "source": [
        "from google.colab import drive # googşe colab - drive baglantısı\n",
        "drive.mount('/content/drive')\n"
      ],
      "metadata": {
        "colab": {
          "base_uri": "https://localhost:8080/"
        },
        "id": "soD_Lwm-k77U",
        "outputId": "5de0dee1-e840-44a0-efce-3dc9df32f4c1"
      },
      "execution_count": 3,
      "outputs": [
        {
          "output_type": "stream",
          "name": "stdout",
          "text": [
            "Mounted at /content/drive\n"
          ]
        }
      ]
    },
    {
      "cell_type": "code",
      "source": [
        "import os\n",
        "\n",
        "os.chdir('/content/drive/My Drive/YAPAYZEKADERSI')\n",
        "!pwd # bize kodun cıktısını dosya yolu olarak veren kod blogudur\n"
      ],
      "metadata": {
        "colab": {
          "base_uri": "https://localhost:8080/"
        },
        "id": "_G4Q5VPSlrwj",
        "outputId": "2c91360e-987f-4b78-9cf4-b74107a39b7d"
      },
      "execution_count": 4,
      "outputs": [
        {
          "output_type": "stream",
          "name": "stdout",
          "text": [
            "/content/drive/My Drive/YAPAYZEKADERSI\n"
          ]
        }
      ]
    }
  ]
}